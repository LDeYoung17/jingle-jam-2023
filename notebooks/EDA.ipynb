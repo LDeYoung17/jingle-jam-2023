{
 "cells": [
  {
   "cell_type": "code",
   "execution_count": 123,
   "metadata": {},
   "outputs": [],
   "source": [
    "import pandas as pd\n",
    "import folium\n",
    "import geopy\n",
    "from geopy.distance import great_circle\n",
    "import deap\n",
    "import random\n",
    "#import mlrose\n",
    "import numpy as np\n",
    "import plotly.express as px\n"
   ]
  },
  {
   "cell_type": "code",
   "execution_count": 2,
   "metadata": {},
   "outputs": [],
   "source": [
    "df_final_cities = pd.read_csv('/Users/admin/Desktop/GitHub/new_repos/jingle-jam-2023/notebooks/final_cities.csv', encoding = \"iso-8859-1\")\n"
   ]
  },
  {
   "cell_type": "code",
   "execution_count": 3,
   "metadata": {},
   "outputs": [
    {
     "data": {
      "text/html": [
       "<div>\n",
       "<style scoped>\n",
       "    .dataframe tbody tr th:only-of-type {\n",
       "        vertical-align: middle;\n",
       "    }\n",
       "\n",
       "    .dataframe tbody tr th {\n",
       "        vertical-align: top;\n",
       "    }\n",
       "\n",
       "    .dataframe thead th {\n",
       "        text-align: right;\n",
       "    }\n",
       "</style>\n",
       "<table border=\"1\" class=\"dataframe\">\n",
       "  <thead>\n",
       "    <tr style=\"text-align: right;\">\n",
       "      <th></th>\n",
       "      <th>City</th>\n",
       "      <th>Latitude</th>\n",
       "      <th>Longitude</th>\n",
       "    </tr>\n",
       "  </thead>\n",
       "  <tbody>\n",
       "    <tr>\n",
       "      <th>0</th>\n",
       "      <td>Athens</td>\n",
       "      <td>37.9838</td>\n",
       "      <td>23.7275</td>\n",
       "    </tr>\n",
       "    <tr>\n",
       "      <th>1</th>\n",
       "      <td>Cairo</td>\n",
       "      <td>30.0444</td>\n",
       "      <td>31.2357</td>\n",
       "    </tr>\n",
       "    <tr>\n",
       "      <th>2</th>\n",
       "      <td>Hialeah</td>\n",
       "      <td>25.8576</td>\n",
       "      <td>-80.2781</td>\n",
       "    </tr>\n",
       "    <tr>\n",
       "      <th>3</th>\n",
       "      <td>Lincoln</td>\n",
       "      <td>40.8136</td>\n",
       "      <td>-96.7026</td>\n",
       "    </tr>\n",
       "    <tr>\n",
       "      <th>4</th>\n",
       "      <td>Cleveland</td>\n",
       "      <td>41.4993</td>\n",
       "      <td>-81.6944</td>\n",
       "    </tr>\n",
       "    <tr>\n",
       "      <th>5</th>\n",
       "      <td>Bangkok</td>\n",
       "      <td>13.7563</td>\n",
       "      <td>100.5018</td>\n",
       "    </tr>\n",
       "    <tr>\n",
       "      <th>6</th>\n",
       "      <td>Gilbert</td>\n",
       "      <td>33.3528</td>\n",
       "      <td>-111.7890</td>\n",
       "    </tr>\n",
       "    <tr>\n",
       "      <th>7</th>\n",
       "      <td>Corpus Christi</td>\n",
       "      <td>27.8006</td>\n",
       "      <td>-97.3964</td>\n",
       "    </tr>\n",
       "    <tr>\n",
       "      <th>8</th>\n",
       "      <td>Osaka</td>\n",
       "      <td>34.6937</td>\n",
       "      <td>135.5022</td>\n",
       "    </tr>\n",
       "  </tbody>\n",
       "</table>\n",
       "</div>"
      ],
      "text/plain": [
       "             City  Latitude  Longitude\n",
       "0          Athens   37.9838    23.7275\n",
       "1           Cairo   30.0444    31.2357\n",
       "2         Hialeah   25.8576   -80.2781\n",
       "3         Lincoln   40.8136   -96.7026\n",
       "4       Cleveland   41.4993   -81.6944\n",
       "5         Bangkok   13.7563   100.5018\n",
       "6         Gilbert   33.3528  -111.7890\n",
       "7  Corpus Christi   27.8006   -97.3964\n",
       "8           Osaka   34.6937   135.5022"
      ]
     },
     "metadata": {},
     "output_type": "display_data"
    }
   ],
   "source": [
    "display(df_final_cities)"
   ]
  },
  {
   "cell_type": "code",
   "execution_count": 4,
   "metadata": {},
   "outputs": [
    {
     "name": "stdout",
     "output_type": "stream",
     "text": [
      "Distance between Athens and Cairo: 696.0 miles\n"
     ]
    }
   ],
   "source": [
    "def calculate_distance(location1, location2):\n",
    "    return great_circle(location1, location2).mi\n",
    "\n",
    "name_1 = df_final_cities.iloc[0, 0]\n",
    "lat_long_1 = df_final_cities.iloc[0, 1], df_final_cities.iloc[0, 2]\n",
    "\n",
    "name_2 = df_final_cities.iloc[1, 0]\n",
    "lat_long_2 = df_final_cities.iloc[1, 1], df_final_cities.iloc[1, 2]\n",
    "\n",
    "distance = round(calculate_distance(lat_long_1, lat_long_2), 0)\n",
    "print(f\"Distance between {name_1} and {name_2}: {distance} miles\")"
   ]
  },
  {
   "cell_type": "code",
   "execution_count": 5,
   "metadata": {},
   "outputs": [
    {
     "name": "stdout",
     "output_type": "stream",
     "text": [
      "[1, 8, 5, 3, 6, 0, 4, 2, 7]\n"
     ]
    }
   ],
   "source": [
    "number_list = [0,1,2,3,4,5,6,7,8]\n",
    "\n",
    "random.shuffle(number_list)\n",
    "print(number_list)\n",
    "df_final_cities['number'] = number_list\n"
   ]
  },
  {
   "cell_type": "code",
   "execution_count": 6,
   "metadata": {},
   "outputs": [
    {
     "data": {
      "text/html": [
       "<div>\n",
       "<style scoped>\n",
       "    .dataframe tbody tr th:only-of-type {\n",
       "        vertical-align: middle;\n",
       "    }\n",
       "\n",
       "    .dataframe tbody tr th {\n",
       "        vertical-align: top;\n",
       "    }\n",
       "\n",
       "    .dataframe thead th {\n",
       "        text-align: right;\n",
       "    }\n",
       "</style>\n",
       "<table border=\"1\" class=\"dataframe\">\n",
       "  <thead>\n",
       "    <tr style=\"text-align: right;\">\n",
       "      <th></th>\n",
       "      <th>City</th>\n",
       "      <th>Latitude</th>\n",
       "      <th>Longitude</th>\n",
       "      <th>number</th>\n",
       "    </tr>\n",
       "  </thead>\n",
       "  <tbody>\n",
       "    <tr>\n",
       "      <th>0</th>\n",
       "      <td>Athens</td>\n",
       "      <td>37.9838</td>\n",
       "      <td>23.7275</td>\n",
       "      <td>1</td>\n",
       "    </tr>\n",
       "    <tr>\n",
       "      <th>1</th>\n",
       "      <td>Cairo</td>\n",
       "      <td>30.0444</td>\n",
       "      <td>31.2357</td>\n",
       "      <td>8</td>\n",
       "    </tr>\n",
       "    <tr>\n",
       "      <th>2</th>\n",
       "      <td>Hialeah</td>\n",
       "      <td>25.8576</td>\n",
       "      <td>-80.2781</td>\n",
       "      <td>5</td>\n",
       "    </tr>\n",
       "    <tr>\n",
       "      <th>3</th>\n",
       "      <td>Lincoln</td>\n",
       "      <td>40.8136</td>\n",
       "      <td>-96.7026</td>\n",
       "      <td>3</td>\n",
       "    </tr>\n",
       "    <tr>\n",
       "      <th>4</th>\n",
       "      <td>Cleveland</td>\n",
       "      <td>41.4993</td>\n",
       "      <td>-81.6944</td>\n",
       "      <td>6</td>\n",
       "    </tr>\n",
       "    <tr>\n",
       "      <th>5</th>\n",
       "      <td>Bangkok</td>\n",
       "      <td>13.7563</td>\n",
       "      <td>100.5018</td>\n",
       "      <td>0</td>\n",
       "    </tr>\n",
       "    <tr>\n",
       "      <th>6</th>\n",
       "      <td>Gilbert</td>\n",
       "      <td>33.3528</td>\n",
       "      <td>-111.7890</td>\n",
       "      <td>4</td>\n",
       "    </tr>\n",
       "    <tr>\n",
       "      <th>7</th>\n",
       "      <td>Corpus Christi</td>\n",
       "      <td>27.8006</td>\n",
       "      <td>-97.3964</td>\n",
       "      <td>2</td>\n",
       "    </tr>\n",
       "    <tr>\n",
       "      <th>8</th>\n",
       "      <td>Osaka</td>\n",
       "      <td>34.6937</td>\n",
       "      <td>135.5022</td>\n",
       "      <td>7</td>\n",
       "    </tr>\n",
       "  </tbody>\n",
       "</table>\n",
       "</div>"
      ],
      "text/plain": [
       "             City  Latitude  Longitude  number\n",
       "0          Athens   37.9838    23.7275       1\n",
       "1           Cairo   30.0444    31.2357       8\n",
       "2         Hialeah   25.8576   -80.2781       5\n",
       "3         Lincoln   40.8136   -96.7026       3\n",
       "4       Cleveland   41.4993   -81.6944       6\n",
       "5         Bangkok   13.7563   100.5018       0\n",
       "6         Gilbert   33.3528  -111.7890       4\n",
       "7  Corpus Christi   27.8006   -97.3964       2\n",
       "8           Osaka   34.6937   135.5022       7"
      ]
     },
     "metadata": {},
     "output_type": "display_data"
    }
   ],
   "source": [
    "display(df_final_cities)"
   ]
  },
  {
   "cell_type": "code",
   "execution_count": 19,
   "metadata": {},
   "outputs": [],
   "source": [
    "def fitness(route):\n",
    "    total_distance = 0\n",
    "    for i in range(len(route) - 1):\n",
    "\n",
    "        location1 = route[i]\n",
    "        location2 = route[i+1]\n",
    "\n",
    "        lat_long_1 = (df_final_cities.loc[df_final_cities['number'] == location1, 'Latitude'].iloc[0], \n",
    "                      df_final_cities.loc[df_final_cities['number'] == location1, 'Longitude'].iloc[0])\n",
    "        lat_long_2 = (df_final_cities.loc[df_final_cities['number'] == location2, 'Latitude'].iloc[0], \n",
    "                      df_final_cities.loc[df_final_cities['number'] == location2, 'Longitude'].iloc[0])\n",
    "\n",
    "        total_distance += calculate_distance(lat_long_1, lat_long_2)\n",
    "    return total_distance"
   ]
  },
  {
   "cell_type": "code",
   "execution_count": 30,
   "metadata": {},
   "outputs": [],
   "source": [
    "def create_population():\n",
    "    location_numbers = list(range(9))\n",
    "\n",
    "    population_size = 10 \n",
    "    population = []\n",
    "\n",
    "    for pop_number in range(population_size):\n",
    "        optimized_route = location_numbers[:]\n",
    "        random.shuffle(optimized_route)\n",
    "        population.append(optimized_route)\n",
    "    return population\n"
   ]
  },
  {
   "cell_type": "code",
   "execution_count": 31,
   "metadata": {},
   "outputs": [
    {
     "name": "stdout",
     "output_type": "stream",
     "text": [
      "37696.96239421576\n",
      "35597.96664786186\n",
      "32347.485613039757\n",
      "33532.238592803806\n",
      "47708.77145827713\n",
      "40200.600598253586\n",
      "41933.54354635344\n",
      "47459.976987761256\n",
      "42980.35854976476\n",
      "28830.722594438626\n"
     ]
    }
   ],
   "source": [
    "initial_population = create_population()\n",
    "for i in initial_population:\n",
    "    result = fitness(i)\n",
    "    print(result)"
   ]
  },
  {
   "cell_type": "code",
   "execution_count": 35,
   "metadata": {},
   "outputs": [],
   "source": [
    "def selection_optimize(population, fitness_func, tournament_size=10):\n",
    "    selected = []\n",
    "    for j in range(len(population)):\n",
    "        contenders = random.sample(population, tournament_size)\n",
    "        winner = min(contenders, key=fitness_func)\n",
    "        selected.append(winner)\n",
    "    return selected"
   ]
  },
  {
   "cell_type": "code",
   "execution_count": 43,
   "metadata": {},
   "outputs": [],
   "source": [
    "def ordered_crossover(parent1, parent2):\n",
    "    size = len(parent1)\n",
    "    start, end = sorted(random.sample(range(size), 2))\n",
    "    offspring = [None] * size\n",
    "    offspring[start:end] = parent1[start:end]\n",
    "    fill_values = [item for item in parent2 if item not in offspring]\n",
    "    for i in range(size):\n",
    "        if offspring[i] is None:\n",
    "            offspring[i] = fill_values.pop(0)\n",
    "    return offspring"
   ]
  },
  {
   "cell_type": "code",
   "execution_count": 49,
   "metadata": {},
   "outputs": [],
   "source": [
    "def swap_mutation(route, mutation_rate):\n",
    "    mutated_route = route[:]\n",
    "    for i in range(len(route)):\n",
    "        if random.random() < mutation_rate:\n",
    "            swap_index = random.randint(0, len(route) - 1)\n",
    "            mutated_route[i], mutated_route[swap_index] = mutated_route[swap_index], mutated_route[i]\n",
    "    return mutated_route"
   ]
  },
  {
   "cell_type": "code",
   "execution_count": 121,
   "metadata": {},
   "outputs": [],
   "source": [
    "num_generations = 250 \n",
    "population_size = 10  \n",
    "mutation_rate = 0.1  \n",
    "best_route_per_generation = []\n",
    "\n",
    "# Initialize population with random routes\n",
    "selection_population = create_population()\n",
    "\n",
    "for generation in range(num_generations):\n",
    "\n",
    "    fitness_scores = [fitness(route) for route in selection_population]\n",
    "\n",
    "    optimized_selection = selection_optimize(selection_population, fitness, tournament_size=5)\n",
    "\n",
    "    next_generation = []\n",
    "    while len(next_generation) < population_size:\n",
    "        route_1, route_2 = random.sample(optimized_selection, 2)\n",
    "        crossover_route = ordered_crossover(route_1, route_2)\n",
    "        next_generation.append(crossover_route)\n",
    "\n",
    "    population = [swap_mutation(route, mutation_rate) for route in next_generation]\n",
    "\n",
    "    best_route = min(population, key=fitness)\n",
    "    best_route_fitness = fitness(best_route)\n",
    "    best_route_per_generation.append((best_route, best_route_fitness))\n",
    "\n"
   ]
  },
  {
   "cell_type": "code",
   "execution_count": 122,
   "metadata": {},
   "outputs": [
    {
     "name": "stdout",
     "output_type": "stream",
     "text": [
      "([7, 0, 8, 1, 5, 2, 4, 3, 6], 17421.24144777315)\n"
     ]
    }
   ],
   "source": [
    "best_overall_route = min(best_route_per_generation, key=lambda x: x[1])\n",
    "print(best_overall_route)"
   ]
  },
  {
   "cell_type": "code",
   "execution_count": null,
   "metadata": {},
   "outputs": [],
   "source": []
  }
 ],
 "metadata": {
  "kernelspec": {
   "display_name": "base",
   "language": "python",
   "name": "python3"
  },
  "language_info": {
   "codemirror_mode": {
    "name": "ipython",
    "version": 3
   },
   "file_extension": ".py",
   "mimetype": "text/x-python",
   "name": "python",
   "nbconvert_exporter": "python",
   "pygments_lexer": "ipython3",
   "version": "3.11.5"
  },
  "orig_nbformat": 4
 },
 "nbformat": 4,
 "nbformat_minor": 2
}
