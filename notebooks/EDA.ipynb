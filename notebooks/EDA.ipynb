{
 "cells": [
  {
   "cell_type": "code",
   "execution_count": 26,
   "metadata": {},
   "outputs": [],
   "source": [
    "import pandas as pd\n",
    "import folium\n",
    "import geopy\n",
    "from geopy.distance import great_circle\n",
    "import deap"
   ]
  },
  {
   "cell_type": "code",
   "execution_count": 22,
   "metadata": {},
   "outputs": [],
   "source": [
    "df_final_cities = pd.read_csv('/Users/admin/Desktop/GitHub/new_repos/jingle-jam-2023/notebooks/final_cities.csv', encoding = \"iso-8859-1\")\n"
   ]
  },
  {
   "cell_type": "code",
   "execution_count": 17,
   "metadata": {},
   "outputs": [
    {
     "data": {
      "text/html": [
       "<div>\n",
       "<style scoped>\n",
       "    .dataframe tbody tr th:only-of-type {\n",
       "        vertical-align: middle;\n",
       "    }\n",
       "\n",
       "    .dataframe tbody tr th {\n",
       "        vertical-align: top;\n",
       "    }\n",
       "\n",
       "    .dataframe thead th {\n",
       "        text-align: right;\n",
       "    }\n",
       "</style>\n",
       "<table border=\"1\" class=\"dataframe\">\n",
       "  <thead>\n",
       "    <tr style=\"text-align: right;\">\n",
       "      <th></th>\n",
       "      <th>City</th>\n",
       "      <th>Latitude</th>\n",
       "      <th>Longitude</th>\n",
       "    </tr>\n",
       "  </thead>\n",
       "  <tbody>\n",
       "    <tr>\n",
       "      <th>0</th>\n",
       "      <td>Athens</td>\n",
       "      <td>37.9838</td>\n",
       "      <td>23.7275</td>\n",
       "    </tr>\n",
       "    <tr>\n",
       "      <th>1</th>\n",
       "      <td>Cairo</td>\n",
       "      <td>30.0444</td>\n",
       "      <td>31.2357</td>\n",
       "    </tr>\n",
       "    <tr>\n",
       "      <th>2</th>\n",
       "      <td>Hialeah</td>\n",
       "      <td>25.8576</td>\n",
       "      <td>-80.2781</td>\n",
       "    </tr>\n",
       "    <tr>\n",
       "      <th>3</th>\n",
       "      <td>Lincoln</td>\n",
       "      <td>40.8136</td>\n",
       "      <td>-96.7026</td>\n",
       "    </tr>\n",
       "    <tr>\n",
       "      <th>4</th>\n",
       "      <td>Cleveland</td>\n",
       "      <td>41.4993</td>\n",
       "      <td>-81.6944</td>\n",
       "    </tr>\n",
       "    <tr>\n",
       "      <th>5</th>\n",
       "      <td>Bangkok</td>\n",
       "      <td>13.7563</td>\n",
       "      <td>100.5018</td>\n",
       "    </tr>\n",
       "    <tr>\n",
       "      <th>6</th>\n",
       "      <td>Gilbert</td>\n",
       "      <td>33.3528</td>\n",
       "      <td>-111.7890</td>\n",
       "    </tr>\n",
       "    <tr>\n",
       "      <th>7</th>\n",
       "      <td>Corpus Christi</td>\n",
       "      <td>27.8006</td>\n",
       "      <td>-97.3964</td>\n",
       "    </tr>\n",
       "    <tr>\n",
       "      <th>8</th>\n",
       "      <td>Osaka</td>\n",
       "      <td>34.6937</td>\n",
       "      <td>135.5022</td>\n",
       "    </tr>\n",
       "  </tbody>\n",
       "</table>\n",
       "</div>"
      ],
      "text/plain": [
       "             City  Latitude  Longitude\n",
       "0          Athens   37.9838    23.7275\n",
       "1           Cairo   30.0444    31.2357\n",
       "2         Hialeah   25.8576   -80.2781\n",
       "3         Lincoln   40.8136   -96.7026\n",
       "4       Cleveland   41.4993   -81.6944\n",
       "5         Bangkok   13.7563   100.5018\n",
       "6         Gilbert   33.3528  -111.7890\n",
       "7  Corpus Christi   27.8006   -97.3964\n",
       "8           Osaka   34.6937   135.5022"
      ]
     },
     "metadata": {},
     "output_type": "display_data"
    }
   ],
   "source": [
    "display(df_final_cities)"
   ]
  },
  {
   "cell_type": "code",
   "execution_count": 24,
   "metadata": {},
   "outputs": [
    {
     "name": "stdout",
     "output_type": "stream",
     "text": [
      "Distance between Athens and Cairo: 696.0 miles\n"
     ]
    }
   ],
   "source": [
    "def calculate_distance(location1, location2):\n",
    "    return great_circle(location1, location2).mi\n",
    "\n",
    "name_1 = df_final_cities.iloc[0, 0]\n",
    "lat_long_1 = df_final_cities.iloc[0, 1], df_final_cities.iloc[0, 2]\n",
    "\n",
    "name_2 = df_final_cities.iloc[1, 0]\n",
    "lat_long_2 = df_final_cities.iloc[1, 1], df_final_cities.iloc[1, 2]\n",
    "\n",
    "distance = round(calculate_distance(lat_long_1, lat_long_2), 0)\n",
    "print(f\"Distance between {name_1} and {name_2}: {distance} miles\")"
   ]
  },
  {
   "cell_type": "code",
   "execution_count": null,
   "metadata": {},
   "outputs": [],
   "source": []
  }
 ],
 "metadata": {
  "kernelspec": {
   "display_name": "base",
   "language": "python",
   "name": "python3"
  },
  "language_info": {
   "codemirror_mode": {
    "name": "ipython",
    "version": 3
   },
   "file_extension": ".py",
   "mimetype": "text/x-python",
   "name": "python",
   "nbconvert_exporter": "python",
   "pygments_lexer": "ipython3",
   "version": "3.11.5"
  },
  "orig_nbformat": 4
 },
 "nbformat": 4,
 "nbformat_minor": 2
}
